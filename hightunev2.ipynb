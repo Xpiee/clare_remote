{
 "cells": [
  {
   "cell_type": "markdown",
   "metadata": {},
   "source": [
    "# Hyper Parameter Tuning for classifier for four modes"
   ]
  },
  {
   "cell_type": "code",
   "execution_count": 1,
   "metadata": {},
   "outputs": [],
   "source": [
    "import numpy as np\n",
    "import pandas as pd\n",
    "import os"
   ]
  },
  {
   "cell_type": "markdown",
   "metadata": {},
   "source": [
    "# Classifier"
   ]
  },
  {
   "cell_type": "code",
   "execution_count": 9,
   "metadata": {},
   "outputs": [],
   "source": [
    "import pandas as pd\n",
    "import numpy as np\n",
    "import os\n",
    "# from os import path\n",
    "import matplotlib.pyplot as plt\n",
    "import seaborn as sns\n",
    "from sklearn.ensemble import RandomForestClassifier, VotingClassifier\n",
    "from sklearn.preprocessing import StandardScaler, MinMaxScaler, RobustScaler\n",
    "from sklearn.model_selection import KFold, train_test_split\n",
    "from sklearn.metrics import classification_report\n",
    "from numpy import vstack, hstack, stack\n",
    "from collections import Counter\n",
    "from sklearn.model_selection import RandomizedSearchCV\n",
    "import lightgbm\n",
    "from sklearn.multiclass import OneVsRestClassifier, OneVsOneClassifier\n",
    "\n",
    "from sklearn.svm import SVC\n",
    "from sklearn.linear_model import LogisticRegression\n",
    "from sklearn.naive_bayes import GaussianNB\n",
    "\n",
    "import pickle"
   ]
  },
  {
   "cell_type": "code",
   "execution_count": 3,
   "metadata": {},
   "outputs": [],
   "source": [
    "# from Training_Code.config import SELECTCOLS, ECG_SELECTCOLS, EDA_SELECTCOLS, SELECTFOUR\n",
    "# from sklearn.utils import shuffle"
   ]
  },
  {
   "cell_type": "code",
   "execution_count": 25,
   "metadata": {},
   "outputs": [],
   "source": [
    "mainPath = r'X:\\TAFFC_dataset\\data'\n",
    "\n",
    "subjectsList = os.listdir(mainPath)\n",
    "subjectsList = [subjects.split('.')[0] for subjects in subjectsList]\n",
    "dataPickle = {}\n",
    "for subjects in subjectsList:\n",
    "    dataPickle[subjects] = pd.read_csv(os.path.join(mainPath, f'{subjects}.csv'))\n",
    "\n",
    "\n",
    "path_pickle = r'X:\\TAFFC_dataset\\pickle'\n",
    "\n",
    "with open(os.path.join(path_pickle, 'data_clare.pickle'), 'wb') as handle:\n",
    "    pickle.dump(dataPickle, handle, protocol = pickle.HIGHEST_PROTOCOL)"
   ]
  },
  {
   "cell_type": "code",
   "execution_count": 26,
   "metadata": {},
   "outputs": [],
   "source": [
    "mainPath = r'X:\\TAFFC_dataset\\pickle'\n",
    "\n",
    "with open(os.path.join(mainPath, 'data_clare.pickle'), 'rb') as handle:\n",
    "    dataPickle = pickle.load(handle)"
   ]
  },
  {
   "cell_type": "code",
   "execution_count": 27,
   "metadata": {},
   "outputs": [
    {
     "name": "stdout",
     "output_type": "stream",
     "text": [
      "Fitting 3 folds for each of 50 candidates, totalling 150 fits\n"
     ]
    }
   ],
   "source": [
    "for subjects in dataPickle.keys():\n",
    "    scaler = StandardScaler()\n",
    "\n",
    "    test_data = dataPickle[subjects]\n",
    "    test_label = test_data['label'].values\n",
    "    test_label = [1 if x > 5 else 0 for x in test_label]\n",
    "    X_test = test_data.iloc[:, :-1]\n",
    "\n",
    "    \n",
    "    data = pd.DataFrame()\n",
    "\n",
    "    for k, v in dataPickle.items():\n",
    "        if k != subjects:\n",
    "            data = pd.concat([data, v], axis = 0)\n",
    "\n",
    "    X = data.iloc[:, :-1]\n",
    "    train_label = data.iloc[:, -1]\n",
    "    y = [1 if x < 5 else 0 for x in train_label]\n",
    "\n",
    "    X = scaler.fit_transform(X)\n",
    "    X_test = scaler.transform(X_test)\n",
    "\n",
    "    random_grid = {'bootstrap': [True, False],\n",
    "    'max_depth': [30, 50, 70, None],\n",
    "    'max_features': ['auto', 'sqrt'],\n",
    "    'min_samples_leaf': [1, 2, 4],\n",
    "    'min_samples_split': [2, 5, 10],\n",
    "    'n_estimators': [100, 800], 'class_weight': ['balanced']}\n",
    "\n",
    "    rf = RandomForestClassifier()\n",
    "    rf_random = RandomizedSearchCV(estimator = rf, param_distributions = random_grid, n_iter = 50, cv = 3, verbose=2, random_state=42, n_jobs = -1)\n",
    "    rf_random.fit(X, y)\n",
    "    \n",
    "    break\n",
    "\n",
    "    # data = [v for k, v in dataPickle.items() if k != subjects]"
   ]
  },
  {
   "cell_type": "code",
   "execution_count": 28,
   "metadata": {},
   "outputs": [
    {
     "data": {
      "text/plain": [
       "{'n_estimators': 800,\n",
       " 'min_samples_split': 5,\n",
       " 'min_samples_leaf': 1,\n",
       " 'max_features': 'auto',\n",
       " 'max_depth': None,\n",
       " 'class_weight': 'balanced',\n",
       " 'bootstrap': True}"
      ]
     },
     "execution_count": 28,
     "metadata": {},
     "output_type": "execute_result"
    }
   ],
   "source": [
    "rf_random.best_params_"
   ]
  },
  {
   "cell_type": "code",
   "execution_count": 29,
   "metadata": {},
   "outputs": [],
   "source": [
    "rf_best = {'n_estimators': 800,\n",
    " 'min_samples_split': 5,\n",
    " 'min_samples_leaf': 1,\n",
    " 'max_features': 'auto',\n",
    " 'max_depth': None,\n",
    " 'class_weight': 'balanced',\n",
    " 'bootstrap': True}"
   ]
  },
  {
   "cell_type": "code",
   "execution_count": 31,
   "metadata": {},
   "outputs": [
    {
     "name": "stdout",
     "output_type": "stream",
     "text": [
      "              precision    recall  f1-score   support\n",
      "\n",
      "           0       0.35      0.73      0.48       165\n",
      "           1       0.19      0.04      0.07       231\n",
      "\n",
      "    accuracy                           0.33       396\n",
      "   macro avg       0.27      0.39      0.27       396\n",
      "weighted avg       0.26      0.33      0.24       396\n",
      "\n",
      "              precision    recall  f1-score   support\n",
      "\n",
      "           0       0.05      0.52      0.09        33\n",
      "           1       0.64      0.08      0.14       363\n",
      "\n",
      "    accuracy                           0.12       396\n",
      "   macro avg       0.35      0.30      0.12       396\n",
      "weighted avg       0.59      0.12      0.14       396\n",
      "\n"
     ]
    },
    {
     "name": "stderr",
     "output_type": "stream",
     "text": [
      "c:\\Users\\Anubhav\\anaconda3\\envs\\cogl\\lib\\site-packages\\sklearn\\metrics\\_classification.py:1318: UndefinedMetricWarning: Precision and F-score are ill-defined and being set to 0.0 in labels with no predicted samples. Use `zero_division` parameter to control this behavior.\n",
      "  _warn_prf(average, modifier, msg_start, len(result))\n",
      "c:\\Users\\Anubhav\\anaconda3\\envs\\cogl\\lib\\site-packages\\sklearn\\metrics\\_classification.py:1318: UndefinedMetricWarning: Precision and F-score are ill-defined and being set to 0.0 in labels with no predicted samples. Use `zero_division` parameter to control this behavior.\n",
      "  _warn_prf(average, modifier, msg_start, len(result))\n",
      "c:\\Users\\Anubhav\\anaconda3\\envs\\cogl\\lib\\site-packages\\sklearn\\metrics\\_classification.py:1318: UndefinedMetricWarning: Precision and F-score are ill-defined and being set to 0.0 in labels with no predicted samples. Use `zero_division` parameter to control this behavior.\n",
      "  _warn_prf(average, modifier, msg_start, len(result))\n"
     ]
    },
    {
     "name": "stdout",
     "output_type": "stream",
     "text": [
      "              precision    recall  f1-score   support\n",
      "\n",
      "           0       0.72      1.00      0.84       231\n",
      "           1       0.00      0.00      0.00        88\n",
      "\n",
      "    accuracy                           0.72       319\n",
      "   macro avg       0.36      0.50      0.42       319\n",
      "weighted avg       0.52      0.72      0.61       319\n",
      "\n",
      "              precision    recall  f1-score   support\n",
      "\n",
      "           0       0.20      0.91      0.32        77\n",
      "           1       0.77      0.07      0.14       308\n",
      "\n",
      "    accuracy                           0.24       385\n",
      "   macro avg       0.48      0.49      0.23       385\n",
      "weighted avg       0.65      0.24      0.17       385\n",
      "\n",
      "              precision    recall  f1-score   support\n",
      "\n",
      "           0       0.72      0.98      0.83       286\n",
      "           1       0.00      0.00      0.00       110\n",
      "\n",
      "    accuracy                           0.71       396\n",
      "   macro avg       0.36      0.49      0.41       396\n",
      "weighted avg       0.52      0.71      0.60       396\n",
      "\n",
      "              precision    recall  f1-score   support\n",
      "\n",
      "           0       0.44      0.99      0.61       176\n",
      "           1       0.00      0.00      0.00       220\n",
      "\n",
      "    accuracy                           0.44       396\n",
      "   macro avg       0.22      0.50      0.31       396\n",
      "weighted avg       0.20      0.44      0.27       396\n",
      "\n",
      "              precision    recall  f1-score   support\n",
      "\n",
      "           0       0.16      0.89      0.27        55\n",
      "           1       0.93      0.22      0.36       341\n",
      "\n",
      "    accuracy                           0.32       396\n",
      "   macro avg       0.54      0.56      0.31       396\n",
      "weighted avg       0.82      0.32      0.35       396\n",
      "\n",
      "              precision    recall  f1-score   support\n",
      "\n",
      "           0       0.27      0.69      0.39       121\n",
      "           1       0.49      0.14      0.21       264\n",
      "\n",
      "    accuracy                           0.31       385\n",
      "   macro avg       0.38      0.42      0.30       385\n",
      "weighted avg       0.42      0.31      0.27       385\n",
      "\n",
      "              precision    recall  f1-score   support\n",
      "\n",
      "           0       0.93      0.99      0.96       275\n",
      "           1       0.60      0.14      0.22        22\n",
      "\n",
      "    accuracy                           0.93       297\n",
      "   macro avg       0.77      0.56      0.59       297\n",
      "weighted avg       0.91      0.93      0.91       297\n",
      "\n"
     ]
    },
    {
     "name": "stderr",
     "output_type": "stream",
     "text": [
      "c:\\Users\\Anubhav\\anaconda3\\envs\\cogl\\lib\\site-packages\\sklearn\\metrics\\_classification.py:1318: UndefinedMetricWarning: Precision and F-score are ill-defined and being set to 0.0 in labels with no predicted samples. Use `zero_division` parameter to control this behavior.\n",
      "  _warn_prf(average, modifier, msg_start, len(result))\n",
      "c:\\Users\\Anubhav\\anaconda3\\envs\\cogl\\lib\\site-packages\\sklearn\\metrics\\_classification.py:1318: UndefinedMetricWarning: Precision and F-score are ill-defined and being set to 0.0 in labels with no predicted samples. Use `zero_division` parameter to control this behavior.\n",
      "  _warn_prf(average, modifier, msg_start, len(result))\n",
      "c:\\Users\\Anubhav\\anaconda3\\envs\\cogl\\lib\\site-packages\\sklearn\\metrics\\_classification.py:1318: UndefinedMetricWarning: Precision and F-score are ill-defined and being set to 0.0 in labels with no predicted samples. Use `zero_division` parameter to control this behavior.\n",
      "  _warn_prf(average, modifier, msg_start, len(result))\n"
     ]
    },
    {
     "name": "stdout",
     "output_type": "stream",
     "text": [
      "              precision    recall  f1-score   support\n",
      "\n",
      "           0       0.38      1.00      0.55        33\n",
      "           1       0.00      0.00      0.00        55\n",
      "\n",
      "    accuracy                           0.38        88\n",
      "   macro avg       0.19      0.50      0.27        88\n",
      "weighted avg       0.14      0.38      0.20        88\n",
      "\n",
      "              precision    recall  f1-score   support\n",
      "\n",
      "           0       0.65      0.92      0.76       198\n",
      "           1       0.06      0.01      0.02        99\n",
      "\n",
      "    accuracy                           0.62       297\n",
      "   macro avg       0.36      0.47      0.39       297\n",
      "weighted avg       0.45      0.62      0.52       297\n",
      "\n",
      "              precision    recall  f1-score   support\n",
      "\n",
      "           0       0.04      0.55      0.07        11\n",
      "           1       0.96      0.45      0.62       264\n",
      "\n",
      "    accuracy                           0.46       275\n",
      "   macro avg       0.50      0.50      0.35       275\n",
      "weighted avg       0.92      0.46      0.60       275\n",
      "\n",
      "              precision    recall  f1-score   support\n",
      "\n",
      "           0       0.52      0.94      0.67       176\n",
      "           1       0.17      0.01      0.02       154\n",
      "\n",
      "    accuracy                           0.51       330\n",
      "   macro avg       0.34      0.48      0.35       330\n",
      "weighted avg       0.36      0.51      0.37       330\n",
      "\n",
      "              precision    recall  f1-score   support\n",
      "\n",
      "           0       0.45      0.85      0.59        88\n",
      "           1       0.57      0.15      0.24       110\n",
      "\n",
      "    accuracy                           0.46       198\n",
      "   macro avg       0.51      0.50      0.41       198\n",
      "weighted avg       0.51      0.46      0.40       198\n",
      "\n"
     ]
    },
    {
     "name": "stderr",
     "output_type": "stream",
     "text": [
      "c:\\Users\\Anubhav\\anaconda3\\envs\\cogl\\lib\\site-packages\\sklearn\\metrics\\_classification.py:1318: UndefinedMetricWarning: Recall and F-score are ill-defined and being set to 0.0 in labels with no true samples. Use `zero_division` parameter to control this behavior.\n",
      "  _warn_prf(average, modifier, msg_start, len(result))\n",
      "c:\\Users\\Anubhav\\anaconda3\\envs\\cogl\\lib\\site-packages\\sklearn\\metrics\\_classification.py:1318: UndefinedMetricWarning: Recall and F-score are ill-defined and being set to 0.0 in labels with no true samples. Use `zero_division` parameter to control this behavior.\n",
      "  _warn_prf(average, modifier, msg_start, len(result))\n",
      "c:\\Users\\Anubhav\\anaconda3\\envs\\cogl\\lib\\site-packages\\sklearn\\metrics\\_classification.py:1318: UndefinedMetricWarning: Recall and F-score are ill-defined and being set to 0.0 in labels with no true samples. Use `zero_division` parameter to control this behavior.\n",
      "  _warn_prf(average, modifier, msg_start, len(result))\n"
     ]
    },
    {
     "name": "stdout",
     "output_type": "stream",
     "text": [
      "              precision    recall  f1-score   support\n",
      "\n",
      "           0       1.00      0.93      0.96       297\n",
      "           1       0.00      0.00      0.00         0\n",
      "\n",
      "    accuracy                           0.93       297\n",
      "   macro avg       0.50      0.46      0.48       297\n",
      "weighted avg       1.00      0.93      0.96       297\n",
      "\n",
      "              precision    recall  f1-score   support\n",
      "\n",
      "           0       0.35      0.93      0.51       143\n",
      "           1       0.44      0.03      0.06       253\n",
      "\n",
      "    accuracy                           0.36       396\n",
      "   macro avg       0.40      0.48      0.28       396\n",
      "weighted avg       0.41      0.36      0.22       396\n",
      "\n",
      "              precision    recall  f1-score   support\n",
      "\n",
      "           0       0.98      0.56      0.71       385\n",
      "           1       0.03      0.55      0.06        11\n",
      "\n",
      "    accuracy                           0.56       396\n",
      "   macro avg       0.51      0.55      0.39       396\n",
      "weighted avg       0.95      0.56      0.70       396\n",
      "\n",
      "              precision    recall  f1-score   support\n",
      "\n",
      "           0       0.21      0.85      0.34        88\n",
      "           1       0.68      0.09      0.16       308\n",
      "\n",
      "    accuracy                           0.26       396\n",
      "   macro avg       0.45      0.47      0.25       396\n",
      "weighted avg       0.58      0.26      0.20       396\n",
      "\n",
      "              precision    recall  f1-score   support\n",
      "\n",
      "           0       0.32      0.86      0.47        66\n",
      "           1       0.59      0.10      0.17       132\n",
      "\n",
      "    accuracy                           0.35       198\n",
      "   macro avg       0.46      0.48      0.32       198\n",
      "weighted avg       0.50      0.35      0.27       198\n",
      "\n"
     ]
    }
   ],
   "source": [
    "for subjects in dataPickle.keys():\n",
    "    scaler = StandardScaler()\n",
    "\n",
    "    test_data = dataPickle[subjects]\n",
    "    test_label = test_data['label'].values\n",
    "    test_label = [1 if x > 5 else 0 for x in test_label]\n",
    "    X_test = test_data.iloc[:, :-1]\n",
    "\n",
    "    \n",
    "    data = pd.DataFrame()\n",
    "\n",
    "    for k, v in dataPickle.items():\n",
    "        if k != subjects:\n",
    "            data = pd.concat([data, v], axis = 0)\n",
    "\n",
    "    X = data.iloc[:, :-1]\n",
    "    train_label = data.iloc[:, -1]\n",
    "    y = [1 if x < 5 else 0 for x in train_label]\n",
    "\n",
    "    # X = scaler.fit_transform(X)\n",
    "    # X_test = scaler.transform(X_test)\n",
    "\n",
    "    model = RandomForestClassifier(**rf_best)\n",
    "    hist = model.fit(X, y)\n",
    "    predicted_y = model.predict(X_test)\n",
    "    print(classification_report(test_label, predicted_y))\n",
    "\n",
    "    # random_grid = {'bootstrap': [True, False],\n",
    "    # 'max_depth': [30, 50, 70, None],\n",
    "    # 'max_features': ['auto', 'sqrt'],\n",
    "    # 'min_samples_leaf': [1, 2, 4],\n",
    "    # 'min_samples_split': [2, 5, 10],\n",
    "    # 'n_estimators': [100, 800], 'class_weight': ['balanced']}\n",
    "\n"
   ]
  },
  {
   "cell_type": "code",
   "execution_count": 23,
   "metadata": {},
   "outputs": [
    {
     "data": {
      "text/plain": [
       "[0,\n",
       " 0,\n",
       " 0,\n",
       " 0,\n",
       " 0,\n",
       " 0,\n",
       " 0,\n",
       " 0,\n",
       " 0,\n",
       " 0,\n",
       " 0,\n",
       " 1,\n",
       " 1,\n",
       " 1,\n",
       " 1,\n",
       " 1,\n",
       " 1,\n",
       " 1,\n",
       " 1,\n",
       " 1,\n",
       " 1,\n",
       " 1,\n",
       " 1,\n",
       " 1,\n",
       " 1,\n",
       " 1,\n",
       " 1,\n",
       " 1,\n",
       " 1,\n",
       " 1,\n",
       " 1,\n",
       " 1,\n",
       " 1,\n",
       " 1,\n",
       " 1,\n",
       " 1,\n",
       " 1,\n",
       " 1,\n",
       " 1,\n",
       " 1,\n",
       " 1,\n",
       " 1,\n",
       " 1,\n",
       " 1,\n",
       " 0,\n",
       " 0,\n",
       " 0,\n",
       " 0,\n",
       " 0,\n",
       " 0,\n",
       " 0,\n",
       " 0,\n",
       " 0,\n",
       " 0,\n",
       " 0,\n",
       " 1,\n",
       " 1,\n",
       " 1,\n",
       " 1,\n",
       " 1,\n",
       " 1,\n",
       " 1,\n",
       " 1,\n",
       " 1,\n",
       " 1,\n",
       " 1,\n",
       " 1,\n",
       " 1,\n",
       " 1,\n",
       " 1,\n",
       " 1,\n",
       " 1,\n",
       " 1,\n",
       " 1,\n",
       " 1,\n",
       " 1,\n",
       " 1,\n",
       " 1,\n",
       " 1,\n",
       " 1,\n",
       " 1,\n",
       " 1,\n",
       " 1,\n",
       " 1,\n",
       " 1,\n",
       " 1,\n",
       " 1,\n",
       " 1,\n",
       " 1,\n",
       " 1,\n",
       " 1,\n",
       " 1,\n",
       " 1,\n",
       " 1,\n",
       " 1,\n",
       " 1,\n",
       " 1,\n",
       " 1,\n",
       " 1,\n",
       " 0,\n",
       " 0,\n",
       " 0,\n",
       " 0,\n",
       " 0,\n",
       " 0,\n",
       " 0,\n",
       " 0,\n",
       " 0,\n",
       " 0,\n",
       " 0,\n",
       " 1,\n",
       " 1,\n",
       " 1,\n",
       " 1,\n",
       " 1,\n",
       " 1,\n",
       " 1,\n",
       " 1,\n",
       " 1,\n",
       " 1,\n",
       " 1,\n",
       " 1,\n",
       " 1,\n",
       " 1,\n",
       " 1,\n",
       " 1,\n",
       " 1,\n",
       " 1,\n",
       " 1,\n",
       " 1,\n",
       " 1,\n",
       " 1,\n",
       " 1,\n",
       " 1,\n",
       " 1,\n",
       " 1,\n",
       " 1,\n",
       " 1,\n",
       " 1,\n",
       " 1,\n",
       " 1,\n",
       " 1,\n",
       " 1,\n",
       " 1,\n",
       " 1,\n",
       " 1,\n",
       " 1,\n",
       " 1,\n",
       " 1,\n",
       " 1,\n",
       " 1,\n",
       " 1,\n",
       " 1,\n",
       " 1,\n",
       " 0,\n",
       " 0,\n",
       " 0,\n",
       " 0,\n",
       " 0,\n",
       " 0,\n",
       " 0,\n",
       " 0,\n",
       " 0,\n",
       " 0,\n",
       " 0,\n",
       " 1,\n",
       " 1,\n",
       " 1,\n",
       " 1,\n",
       " 1,\n",
       " 1,\n",
       " 1,\n",
       " 1,\n",
       " 1,\n",
       " 1,\n",
       " 1,\n",
       " 0,\n",
       " 0,\n",
       " 0,\n",
       " 0,\n",
       " 0,\n",
       " 0,\n",
       " 0,\n",
       " 0,\n",
       " 0,\n",
       " 0,\n",
       " 0,\n",
       " 0,\n",
       " 0,\n",
       " 0,\n",
       " 0,\n",
       " 0,\n",
       " 0,\n",
       " 0,\n",
       " 0,\n",
       " 0,\n",
       " 0,\n",
       " 0]"
      ]
     },
     "execution_count": 23,
     "metadata": {},
     "output_type": "execute_result"
    }
   ],
   "source": []
  },
  {
   "cell_type": "code",
   "execution_count": 17,
   "metadata": {},
   "outputs": [],
   "source": [
    "def read_dataset(dataset, folder, basefolder):\n",
    "    dr_feat_path = r'X:\\All Modes\\All\\{}\\Combine'.format(dataset) # ECG_EDA_Features_Combined_scld\n",
    "    bs_feat_path = r'X:\\All Modes\\All\\{}\\Combine'.format(dataset) # ECG_EDA_Base2_Features_Combined\n",
    "\n",
    "    XtrainDriv = make_kfolds(dr_feat_path)\n",
    "    # XtrainBase = make_kfolds(bs_feat_path)\n",
    "\n",
    "    XtrainDriv = XtrainDriv[SELECTFOUR].copy()\n",
    "    ytrainDriv = list(XtrainDriv['scaled label'].copy())\n",
    "\n",
    "    # XtrainBase = XtrainBase[SELECTFOUR[:-3]].copy()\n",
    "    # ytrainBase = XtrainBase.shape[0] * [0]\n",
    "\n",
    "    XtrainDriv.drop(columns=['label', 'complexity', 'scaled label'], inplace=True)\n",
    "    # XtrainDriv = XtrainDriv.append(XtrainBase)\n",
    "\n",
    "    ytrain = ytrainDriv # + ytrainBase\n",
    "\n",
    "    X = XtrainDriv.values\n",
    "    \n",
    "    X, ytrain = shuffle(X, ytrain, random_state=42)\n",
    "\n",
    "    for idx, val in enumerate(ytrain):\n",
    "        if val <= 4:\n",
    "            ytrain[idx] = 0\n",
    "        else: ytrain[idx] = 1\n",
    "\n",
    "    return X, ytrain"
   ]
  },
  {
   "cell_type": "markdown",
   "metadata": {},
   "source": [
    "## Hyperparameter tuning"
   ]
  },
  {
   "cell_type": "code",
   "execution_count": 84,
   "metadata": {},
   "outputs": [],
   "source": [
    "data, label = read_dataset('MatbII', 'ECG_EDA_Features_Combined_scld', 'ECG_EDA_Base2_Features_Combined')\n",
    "scaler = StandardScaler()\n",
    "data = scaler.fit_transform(data)\n",
    "X_train, X_test, y_train, y_test = train_test_split(data, label, test_size=0.20, random_state=42, shuffle=True)"
   ]
  },
  {
   "cell_type": "code",
   "execution_count": 85,
   "metadata": {},
   "outputs": [
    {
     "data": {
      "text/plain": [
       "(2352, 315)"
      ]
     },
     "execution_count": 85,
     "metadata": {},
     "output_type": "execute_result"
    }
   ],
   "source": [
    "X_train.shape"
   ]
  },
  {
   "cell_type": "code",
   "execution_count": 86,
   "metadata": {},
   "outputs": [
    {
     "name": "stdout",
     "output_type": "stream",
     "text": [
      "Fitting 3 folds for each of 50 candidates, totalling 150 fits\n"
     ]
    },
    {
     "data": {
      "text/plain": [
       "RandomizedSearchCV(cv=3, estimator=RandomForestClassifier(), n_iter=50,\n",
       "                   n_jobs=-1,\n",
       "                   param_distributions={'bootstrap': [True, False],\n",
       "                                        'class_weight': ['balanced'],\n",
       "                                        'max_depth': [30, 50, 70, None],\n",
       "                                        'max_features': ['auto', 'sqrt'],\n",
       "                                        'min_samples_leaf': [1, 2, 4],\n",
       "                                        'min_samples_split': [2, 5, 10],\n",
       "                                        'n_estimators': [100, 800, 1000, 2000,\n",
       "                                                         3000]},\n",
       "                   random_state=42, verbose=2)"
      ]
     },
     "execution_count": 86,
     "metadata": {},
     "output_type": "execute_result"
    }
   ],
   "source": [
    "random_grid = {'bootstrap': [True, False],\n",
    " 'max_depth': [30, 50, 70, None],\n",
    " 'max_features': ['auto', 'sqrt'],\n",
    " 'min_samples_leaf': [1, 2, 4],\n",
    " 'min_samples_split': [2, 5, 10],\n",
    " 'n_estimators': [100, 800, 1000, 2000, 3000], 'class_weight': ['balanced']}\n",
    "\n",
    "rf = RandomForestClassifier()\n",
    "rf_random = RandomizedSearchCV(estimator = rf, param_distributions = random_grid, n_iter = 50, cv = 3, verbose=2, random_state=42, n_jobs = -1)\n",
    "rf_random.fit(X_train, y_train)"
   ]
  },
  {
   "cell_type": "code",
   "execution_count": 87,
   "metadata": {},
   "outputs": [
    {
     "data": {
      "text/plain": [
       "{'n_estimators': 800,\n",
       " 'min_samples_split': 10,\n",
       " 'min_samples_leaf': 1,\n",
       " 'max_features': 'sqrt',\n",
       " 'max_depth': None,\n",
       " 'class_weight': 'balanced',\n",
       " 'bootstrap': False}"
      ]
     },
     "execution_count": 87,
     "metadata": {},
     "output_type": "execute_result"
    }
   ],
   "source": [
    "rf_random.best_params_"
   ]
  },
  {
   "cell_type": "code",
   "execution_count": null,
   "metadata": {},
   "outputs": [],
   "source": [
    "{'n_estimators': 2000,\n",
    " 'min_samples_split': 2,\n",
    " 'min_samples_leaf': 1,\n",
    " 'max_features': 'auto',\n",
    " 'max_depth': 50,\n",
    " 'bootstrap': False}"
   ]
  },
  {
   "cell_type": "code",
   "execution_count": 88,
   "metadata": {},
   "outputs": [
    {
     "name": "stdout",
     "output_type": "stream",
     "text": [
      "              precision    recall  f1-score   support\n",
      "\n",
      "           0       0.74      0.68      0.71       260\n",
      "           1       0.76      0.81      0.78       329\n",
      "\n",
      "    accuracy                           0.75       589\n",
      "   macro avg       0.75      0.75      0.75       589\n",
      "weighted avg       0.75      0.75      0.75       589\n",
      "\n"
     ]
    }
   ],
   "source": [
    "model = rf_random.best_estimator_\n",
    "hist = model.fit(X_train, y_train)\n",
    "predicted_y = model.predict(X_test)\n",
    "print(classification_report(y_test, predicted_y))"
   ]
  },
  {
   "cell_type": "code",
   "execution_count": 20,
   "metadata": {},
   "outputs": [],
   "source": [
    "data, label = read_dataset('Virage', 'ECG_EDA_Features_Combined_scld', 'ECG_EDA_Base2_Features_Combined')\n",
    "X_train, X_test, y_train, y_test = train_test_split(data, label, test_size=0.20, random_state=42, shuffle=True)"
   ]
  },
  {
   "cell_type": "code",
   "execution_count": 21,
   "metadata": {},
   "outputs": [
    {
     "data": {
      "text/plain": [
       "(2141, 315)"
      ]
     },
     "execution_count": 21,
     "metadata": {},
     "output_type": "execute_result"
    }
   ],
   "source": [
    "X_train.shape"
   ]
  },
  {
   "cell_type": "code",
   "execution_count": 22,
   "metadata": {},
   "outputs": [
    {
     "name": "stdout",
     "output_type": "stream",
     "text": [
      "Fitting 3 folds for each of 50 candidates, totalling 150 fits\n"
     ]
    },
    {
     "data": {
      "text/plain": [
       "RandomizedSearchCV(cv=3, estimator=RandomForestClassifier(), n_iter=50,\n",
       "                   n_jobs=-1,\n",
       "                   param_distributions={'bootstrap': [True, False],\n",
       "                                        'max_depth': [30, 50, 70, None],\n",
       "                                        'max_features': ['auto', 'sqrt'],\n",
       "                                        'min_samples_leaf': [1, 2, 4],\n",
       "                                        'min_samples_split': [2, 5, 10],\n",
       "                                        'n_estimators': [100, 800, 1000, 2000,\n",
       "                                                         3000]},\n",
       "                   random_state=42, verbose=2)"
      ]
     },
     "execution_count": 22,
     "metadata": {},
     "output_type": "execute_result"
    }
   ],
   "source": [
    "random_grid = {'bootstrap': [True, False],\n",
    " 'max_depth': [30, 50, 70, None],\n",
    " 'max_features': ['auto', 'sqrt'],\n",
    " 'min_samples_leaf': [1, 2, 4],\n",
    " 'min_samples_split': [2, 5, 10],\n",
    " 'n_estimators': [100, 800, 1000, 2000, 3000]}\n",
    "\n",
    "rf = RandomForestClassifier()\n",
    "rf_random = RandomizedSearchCV(estimator = rf, param_distributions = random_grid, n_iter = 50, cv = 3, verbose=2, random_state=42, n_jobs = -1)\n",
    "rf_random.fit(X_train, y_train)"
   ]
  },
  {
   "cell_type": "code",
   "execution_count": 23,
   "metadata": {},
   "outputs": [
    {
     "data": {
      "text/plain": [
       "{'n_estimators': 2000,\n",
       " 'min_samples_split': 2,\n",
       " 'min_samples_leaf': 1,\n",
       " 'max_features': 'auto',\n",
       " 'max_depth': 50,\n",
       " 'bootstrap': False}"
      ]
     },
     "execution_count": 23,
     "metadata": {},
     "output_type": "execute_result"
    }
   ],
   "source": [
    "rf_random.best_params_"
   ]
  },
  {
   "cell_type": "code",
   "execution_count": 24,
   "metadata": {},
   "outputs": [
    {
     "name": "stdout",
     "output_type": "stream",
     "text": [
      "              precision    recall  f1-score   support\n",
      "\n",
      "           0       0.87      0.69      0.77       205\n",
      "           1       0.83      0.94      0.88       331\n",
      "\n",
      "    accuracy                           0.84       536\n",
      "   macro avg       0.85      0.81      0.82       536\n",
      "weighted avg       0.84      0.84      0.84       536\n",
      "\n"
     ]
    }
   ],
   "source": [
    "model = rf_random.best_estimator_\n",
    "hist = model.fit(X_train, y_train)\n",
    "predicted_y = model.predict(X_test)\n",
    "print(classification_report(y_test, predicted_y))"
   ]
  },
  {
   "cell_type": "code",
   "execution_count": 25,
   "metadata": {},
   "outputs": [
    {
     "data": {
      "text/plain": [
       "SelectFromModel(estimator=RandomForestClassifier(bootstrap=False, max_depth=30,\n",
       "                                                 n_estimators=2000))"
      ]
     },
     "execution_count": 25,
     "metadata": {},
     "output_type": "execute_result"
    }
   ],
   "source": [
    "from sklearn.feature_selection import SelectFromModel\n",
    "sel = SelectFromModel(model)\n",
    "sel.fit(X_train, y_train)"
   ]
  },
  {
   "cell_type": "code",
   "execution_count": null,
   "metadata": {},
   "outputs": [],
   "source": []
  },
  {
   "cell_type": "markdown",
   "metadata": {},
   "source": [
    "# SVM"
   ]
  },
  {
   "cell_type": "code",
   "execution_count": 60,
   "metadata": {},
   "outputs": [
    {
     "name": "stderr",
     "output_type": "stream",
     "text": [
      "C:\\Users\\Anubhav\\anaconda3\\envs\\ideas\\lib\\site-packages\\sklearn\\model_selection\\_search.py:285: UserWarning: The total space of parameters 4 is smaller than n_iter=50. Running 4 iterations. For exhaustive searches, use GridSearchCV.\n",
      "  warnings.warn(\n"
     ]
    },
    {
     "name": "stdout",
     "output_type": "stream",
     "text": [
      "Fitting 10 folds for each of 4 candidates, totalling 40 fits\n"
     ]
    },
    {
     "data": {
      "text/plain": [
       "RandomizedSearchCV(cv=10, estimator=SVC(), n_iter=50, n_jobs=-1,\n",
       "                   param_distributions={'C': [1, 5, 15, 20],\n",
       "                                        'class_weight': ['balanced'],\n",
       "                                        'kernel': ['rbf']},\n",
       "                   random_state=42, verbose=2)"
      ]
     },
     "execution_count": 60,
     "metadata": {},
     "output_type": "execute_result"
    }
   ],
   "source": [
    "data, label = read_dataset('MatbII', 'ECG_EDA_Features_Combined_scld', 'ECG_EDA_Base2_Features_Combined')\n",
    "scaler = StandardScaler()\n",
    "data = scaler.fit_transform(data)\n",
    "X_train, X_test, y_train, y_test = train_test_split(data, label, test_size=0.20, random_state=42, shuffle=True)\n",
    "\n",
    "parameters = {'C': [1, 5, 15, 20], 'kernel':['rbf'], 'class_weight': ['balanced']}\n",
    "\n",
    "svc_ = SVC()\n",
    "rf_random = RandomizedSearchCV(estimator = svc_, param_distributions = parameters, n_iter = 50, cv = 10, verbose=2, random_state=42, n_jobs = -1)\n",
    "rf_random.fit(X_train, y_train)"
   ]
  },
  {
   "cell_type": "code",
   "execution_count": 61,
   "metadata": {},
   "outputs": [
    {
     "data": {
      "text/plain": [
       "(2352, 315)"
      ]
     },
     "execution_count": 61,
     "metadata": {},
     "output_type": "execute_result"
    }
   ],
   "source": [
    "X_train.shape"
   ]
  },
  {
   "cell_type": "code",
   "execution_count": 62,
   "metadata": {},
   "outputs": [
    {
     "data": {
      "text/plain": [
       "{'kernel': 'rbf', 'class_weight': 'balanced', 'C': 5}"
      ]
     },
     "execution_count": 62,
     "metadata": {},
     "output_type": "execute_result"
    }
   ],
   "source": [
    "rf_random.best_params_"
   ]
  },
  {
   "cell_type": "code",
   "execution_count": 63,
   "metadata": {},
   "outputs": [
    {
     "name": "stdout",
     "output_type": "stream",
     "text": [
      "              precision    recall  f1-score   support\n",
      "\n",
      "           0       0.69      0.73      0.71       260\n",
      "           1       0.78      0.74      0.76       329\n",
      "\n",
      "    accuracy                           0.74       589\n",
      "   macro avg       0.74      0.74      0.74       589\n",
      "weighted avg       0.74      0.74      0.74       589\n",
      "\n"
     ]
    }
   ],
   "source": [
    "model = rf_random.best_estimator_\n",
    "hist = model.fit(X_train, y_train)\n",
    "predicted_y = model.predict(X_test)\n",
    "print(classification_report(y_test, predicted_y))"
   ]
  },
  {
   "cell_type": "code",
   "execution_count": 57,
   "metadata": {},
   "outputs": [
    {
     "name": "stderr",
     "output_type": "stream",
     "text": [
      "C:\\Users\\Anubhav\\anaconda3\\envs\\ideas\\lib\\site-packages\\sklearn\\model_selection\\_search.py:285: UserWarning: The total space of parameters 4 is smaller than n_iter=50. Running 4 iterations. For exhaustive searches, use GridSearchCV.\n",
      "  warnings.warn(\n"
     ]
    },
    {
     "name": "stdout",
     "output_type": "stream",
     "text": [
      "Fitting 10 folds for each of 4 candidates, totalling 40 fits\n"
     ]
    },
    {
     "data": {
      "text/plain": [
       "RandomizedSearchCV(cv=10, estimator=SVC(), n_iter=50, n_jobs=-1,\n",
       "                   param_distributions={'C': [1, 5, 15, 20],\n",
       "                                        'class_weight': ['balanced'],\n",
       "                                        'kernel': ['rbf']},\n",
       "                   random_state=42, verbose=2)"
      ]
     },
     "execution_count": 57,
     "metadata": {},
     "output_type": "execute_result"
    }
   ],
   "source": [
    "data, label = read_dataset('Virage', 'ECG_EDA_Features_Combined_scld', 'ECG_EDA_Base2_Features_Combined')\n",
    "scaler = StandardScaler()\n",
    "data = scaler.fit_transform(data)\n",
    "X_train, X_test, y_train, y_test = train_test_split(data, label, test_size=0.20, random_state=42, shuffle=True)\n",
    "\n",
    "parameters = {'C': [1, 5, 15, 20], 'kernel':['rbf'], 'class_weight': ['balanced']}\n",
    "\n",
    "svc_ = SVC()\n",
    "rf_random = RandomizedSearchCV(estimator = svc_, param_distributions = parameters, n_iter = 50, cv = 10, verbose=2, random_state=42, n_jobs = -1)\n",
    "rf_random.fit(X_train, y_train)"
   ]
  },
  {
   "cell_type": "code",
   "execution_count": 58,
   "metadata": {},
   "outputs": [
    {
     "data": {
      "text/plain": [
       "{'kernel': 'rbf', 'class_weight': 'balanced', 'C': 20}"
      ]
     },
     "execution_count": 58,
     "metadata": {},
     "output_type": "execute_result"
    }
   ],
   "source": [
    "rf_random.best_params_"
   ]
  },
  {
   "cell_type": "code",
   "execution_count": 59,
   "metadata": {},
   "outputs": [
    {
     "name": "stdout",
     "output_type": "stream",
     "text": [
      "              precision    recall  f1-score   support\n",
      "\n",
      "           0       0.79      0.73      0.76       205\n",
      "           1       0.84      0.88      0.86       331\n",
      "\n",
      "    accuracy                           0.82       536\n",
      "   macro avg       0.82      0.81      0.81       536\n",
      "weighted avg       0.82      0.82      0.82       536\n",
      "\n"
     ]
    }
   ],
   "source": [
    "model = rf_random.best_estimator_\n",
    "hist = model.fit(X_train, y_train)\n",
    "predicted_y = model.predict(X_test)\n",
    "print(classification_report(y_test, predicted_y))"
   ]
  },
  {
   "cell_type": "markdown",
   "metadata": {},
   "source": [
    "# Logistic Regression"
   ]
  },
  {
   "cell_type": "code",
   "execution_count": 75,
   "metadata": {},
   "outputs": [
    {
     "name": "stderr",
     "output_type": "stream",
     "text": [
      "C:\\Users\\Anubhav\\anaconda3\\envs\\ideas\\lib\\site-packages\\sklearn\\model_selection\\_search.py:285: UserWarning: The total space of parameters 16 is smaller than n_iter=100. Running 16 iterations. For exhaustive searches, use GridSearchCV.\n",
      "  warnings.warn(\n"
     ]
    },
    {
     "name": "stdout",
     "output_type": "stream",
     "text": [
      "Fitting 5 folds for each of 16 candidates, totalling 80 fits\n"
     ]
    },
    {
     "data": {
      "text/plain": [
       "RandomizedSearchCV(cv=5, estimator=LogisticRegression(), n_iter=100, n_jobs=-1,\n",
       "                   param_distributions={'C': [0.5, 1, 5, 10],\n",
       "                                        'class_weight': ['balanced'],\n",
       "                                        'max_iter': [400, 500, 600, 1000]},\n",
       "                   random_state=42, verbose=2)"
      ]
     },
     "execution_count": 75,
     "metadata": {},
     "output_type": "execute_result"
    }
   ],
   "source": [
    "from sklearn.preprocessing import StandardScaler\n",
    "\n",
    "data, label = read_dataset('MatbII', 'ECG_EDA_Features_Combined_scld', 'ECG_EDA_Base2_Features_Combined')\n",
    "\n",
    "scaler = StandardScaler()\n",
    "data = scaler.fit_transform(data)\n",
    "\n",
    "X_train, X_test, y_train, y_test = train_test_split(data, label, test_size=0.20, random_state=42, shuffle=True)\n",
    "\n",
    "\n",
    "parameters_lr = {'C': [0.5, 1, 5, 10], 'max_iter': [400, 500, 600, 1000], 'class_weight': ['balanced']}\n",
    "\n",
    "lr_ = LogisticRegression()\n",
    "rf_random = RandomizedSearchCV(estimator = lr_, param_distributions = parameters_lr, n_iter = 100, cv = 5, verbose=2, random_state=42, n_jobs = -1)\n",
    "rf_random.fit(X_train, y_train)"
   ]
  },
  {
   "cell_type": "code",
   "execution_count": 76,
   "metadata": {},
   "outputs": [
    {
     "data": {
      "text/plain": [
       "{'max_iter': 400, 'class_weight': 'balanced', 'C': 0.5}"
      ]
     },
     "execution_count": 76,
     "metadata": {},
     "output_type": "execute_result"
    }
   ],
   "source": [
    "rf_random.best_params_"
   ]
  },
  {
   "cell_type": "code",
   "execution_count": 77,
   "metadata": {},
   "outputs": [
    {
     "name": "stdout",
     "output_type": "stream",
     "text": [
      "              precision    recall  f1-score   support\n",
      "\n",
      "           0       0.61      0.65      0.63       260\n",
      "           1       0.71      0.67      0.69       329\n",
      "\n",
      "    accuracy                           0.66       589\n",
      "   macro avg       0.66      0.66      0.66       589\n",
      "weighted avg       0.67      0.66      0.66       589\n",
      "\n"
     ]
    }
   ],
   "source": [
    "model = rf_random.best_estimator_\n",
    "hist = model.fit(X_train, y_train)\n",
    "predicted_y = model.predict(X_test)\n",
    "print(classification_report(y_test, predicted_y))"
   ]
  },
  {
   "cell_type": "code",
   "execution_count": 72,
   "metadata": {},
   "outputs": [
    {
     "name": "stderr",
     "output_type": "stream",
     "text": [
      "C:\\Users\\Anubhav\\anaconda3\\envs\\ideas\\lib\\site-packages\\sklearn\\model_selection\\_search.py:285: UserWarning: The total space of parameters 8 is smaller than n_iter=100. Running 8 iterations. For exhaustive searches, use GridSearchCV.\n",
      "  warnings.warn(\n"
     ]
    },
    {
     "name": "stdout",
     "output_type": "stream",
     "text": [
      "Fitting 5 folds for each of 8 candidates, totalling 40 fits\n"
     ]
    },
    {
     "data": {
      "text/plain": [
       "RandomizedSearchCV(cv=5, estimator=LogisticRegression(), n_iter=100, n_jobs=-1,\n",
       "                   param_distributions={'C': [0.5, 1, 5, 10],\n",
       "                                        'class_weight': ['balanced'],\n",
       "                                        'max_iter': [1000, 1500]},\n",
       "                   random_state=42, verbose=2)"
      ]
     },
     "execution_count": 72,
     "metadata": {},
     "output_type": "execute_result"
    }
   ],
   "source": [
    "from sklearn.preprocessing import StandardScaler\n",
    "\n",
    "data, label = read_dataset('Virage', 'ECG_EDA_Features_Combined_scld', 'ECG_EDA_Base2_Features_Combined')\n",
    "\n",
    "scaler = StandardScaler()\n",
    "data = scaler.fit_transform(data)\n",
    "\n",
    "X_train, X_test, y_train, y_test = train_test_split(data, label, test_size=0.20, random_state=42, shuffle=True)\n",
    "\n",
    "\n",
    "parameters_lr = {'C': [0.5, 1, 5, 10], 'max_iter': [1000, 1500], 'class_weight': ['balanced']}\n",
    "\n",
    "lr_ = LogisticRegression()\n",
    "rf_random = RandomizedSearchCV(estimator = lr_, param_distributions = parameters_lr, n_iter = 100, cv = 5, verbose=2, random_state=42, n_jobs = -1)\n",
    "rf_random.fit(X_train, y_train)"
   ]
  },
  {
   "cell_type": "code",
   "execution_count": 73,
   "metadata": {},
   "outputs": [
    {
     "data": {
      "text/plain": [
       "{'max_iter': 1000, 'class_weight': 'balanced', 'C': 0.5}"
      ]
     },
     "execution_count": 73,
     "metadata": {},
     "output_type": "execute_result"
    }
   ],
   "source": [
    "rf_random.best_params_"
   ]
  },
  {
   "cell_type": "code",
   "execution_count": 74,
   "metadata": {},
   "outputs": [
    {
     "name": "stdout",
     "output_type": "stream",
     "text": [
      "              precision    recall  f1-score   support\n",
      "\n",
      "           0       0.65      0.79      0.71       205\n",
      "           1       0.85      0.74      0.79       331\n",
      "\n",
      "    accuracy                           0.76       536\n",
      "   macro avg       0.75      0.76      0.75       536\n",
      "weighted avg       0.77      0.76      0.76       536\n",
      "\n"
     ]
    }
   ],
   "source": [
    "model = rf_random.best_estimator_\n",
    "hist = model.fit(X_train, y_train)\n",
    "predicted_y = model.predict(X_test)\n",
    "print(classification_report(y_test, predicted_y))"
   ]
  },
  {
   "cell_type": "code",
   "execution_count": null,
   "metadata": {},
   "outputs": [],
   "source": []
  },
  {
   "cell_type": "code",
   "execution_count": null,
   "metadata": {},
   "outputs": [],
   "source": []
  },
  {
   "cell_type": "markdown",
   "metadata": {},
   "source": [
    "# LGBM"
   ]
  },
  {
   "cell_type": "code",
   "execution_count": 78,
   "metadata": {},
   "outputs": [
    {
     "name": "stdout",
     "output_type": "stream",
     "text": [
      "Fitting 5 folds for each of 50 candidates, totalling 250 fits\n"
     ]
    },
    {
     "data": {
      "text/plain": [
       "RandomizedSearchCV(cv=5, estimator=LGBMClassifier(), n_iter=50, n_jobs=-1,\n",
       "                   param_distributions={'boosting_type': ['gbdt', 'dart'],\n",
       "                                        'class_weight': ['balanced'],\n",
       "                                        'importance_type': ['split', 'gains'],\n",
       "                                        'learning_rate': [0.1, 0.01, 0.05],\n",
       "                                        'n_estimators': [1000, 500, 200, 1500],\n",
       "                                        'num_leaves': [100, 500, 1000],\n",
       "                                        'reg_lambda': [0.01, 0.001]},\n",
       "                   random_state=42, verbose=2)"
      ]
     },
     "execution_count": 78,
     "metadata": {},
     "output_type": "execute_result"
    }
   ],
   "source": [
    "data, label = read_dataset('MatbII', 'ECG_EDA_Features_Combined_scld', 'ECG_EDA_Base2_Features_Combined')\n",
    "scaler = StandardScaler()\n",
    "data = scaler.fit_transform(data)\n",
    "X_train, X_test, y_train, y_test = train_test_split(data, label, test_size=0.20, random_state=42, shuffle=True)\n",
    "\n",
    "import lightgbm as lgb\n",
    "lgbmcls = lgb.LGBMClassifier()\n",
    "default_params = lgbmcls.get_params()\n",
    "\n",
    "params = {'boosting_type': ['gbdt', 'dart'],\n",
    " 'class_weight': ['balanced'],\n",
    " 'importance_type': ['split', 'gains'],\n",
    " 'learning_rate': [0.1, 0.01, 0.05],\n",
    " 'n_estimators': [1000, 500, 200, 1500],\n",
    " 'num_leaves': [100, 500, 1000],\n",
    " 'reg_lambda': [0.01, 0.001]}\n",
    "\n",
    "lgb_ = lgb.LGBMClassifier()\n",
    "rf_random = RandomizedSearchCV(estimator = lgb_, param_distributions = params, n_iter = 50, cv = 5, verbose=2, random_state=42, n_jobs = -1)\n",
    "rf_random.fit(X_train, y_train)"
   ]
  },
  {
   "cell_type": "code",
   "execution_count": 79,
   "metadata": {},
   "outputs": [
    {
     "data": {
      "text/plain": [
       "{'reg_lambda': 0.01,\n",
       " 'num_leaves': 100,\n",
       " 'n_estimators': 1000,\n",
       " 'learning_rate': 0.1,\n",
       " 'importance_type': 'gains',\n",
       " 'class_weight': 'balanced',\n",
       " 'boosting_type': 'dart'}"
      ]
     },
     "execution_count": 79,
     "metadata": {},
     "output_type": "execute_result"
    }
   ],
   "source": [
    "rf_random.best_params_"
   ]
  },
  {
   "cell_type": "code",
   "execution_count": 80,
   "metadata": {},
   "outputs": [
    {
     "name": "stdout",
     "output_type": "stream",
     "text": [
      "              precision    recall  f1-score   support\n",
      "\n",
      "           0       0.76      0.67      0.71       260\n",
      "           1       0.76      0.83      0.80       329\n",
      "\n",
      "    accuracy                           0.76       589\n",
      "   macro avg       0.76      0.75      0.76       589\n",
      "weighted avg       0.76      0.76      0.76       589\n",
      "\n"
     ]
    }
   ],
   "source": [
    "model = rf_random.best_estimator_\n",
    "hist = model.fit(X_train, y_train)\n",
    "predicted_y = model.predict(X_test)\n",
    "print(classification_report(y_test, predicted_y))"
   ]
  },
  {
   "cell_type": "code",
   "execution_count": 81,
   "metadata": {},
   "outputs": [
    {
     "name": "stdout",
     "output_type": "stream",
     "text": [
      "Fitting 5 folds for each of 25 candidates, totalling 125 fits\n"
     ]
    },
    {
     "data": {
      "text/plain": [
       "RandomizedSearchCV(cv=5, estimator=LGBMClassifier(), n_iter=25, n_jobs=-1,\n",
       "                   param_distributions={'boosting_type': ['gbdt', 'dart'],\n",
       "                                        'class_weight': ['balanced'],\n",
       "                                        'importance_type': ['split', 'gains'],\n",
       "                                        'learning_rate': [0.1, 0.01, 0.05],\n",
       "                                        'n_estimators': [1000, 500, 200, 1500],\n",
       "                                        'num_leaves': [100, 500, 1000],\n",
       "                                        'reg_lambda': [0.01, 0.001]},\n",
       "                   random_state=42, verbose=2)"
      ]
     },
     "execution_count": 81,
     "metadata": {},
     "output_type": "execute_result"
    }
   ],
   "source": [
    "data, label = read_dataset('Virage', 'ECG_EDA_Features_Combined_scld', 'ECG_EDA_Base2_Features_Combined')\n",
    "scaler = StandardScaler()\n",
    "data = scaler.fit_transform(data)\n",
    "X_train, X_test, y_train, y_test = train_test_split(data, label, test_size=0.20, random_state=42, shuffle=True)\n",
    "\n",
    "import lightgbm as lgb\n",
    "lgbmcls = lgb.LGBMClassifier()\n",
    "default_params = lgbmcls.get_params()\n",
    "\n",
    "params = {'boosting_type': ['gbdt', 'dart'],\n",
    " 'class_weight': ['balanced'],\n",
    " 'importance_type': ['split', 'gains'],\n",
    " 'learning_rate': [0.1, 0.01, 0.05],\n",
    " 'n_estimators': [1000, 500, 200, 1500],\n",
    " 'num_leaves': [100, 500, 1000],\n",
    " 'reg_lambda': [0.01, 0.001]}\n",
    "\n",
    "lgb_ = lgb.LGBMClassifier()\n",
    "rf_random = RandomizedSearchCV(estimator = lgb_, param_distributions = params, n_iter = 25, cv = 5, verbose=2, random_state=42, n_jobs = -1)\n",
    "rf_random.fit(X_train, y_train)"
   ]
  },
  {
   "cell_type": "code",
   "execution_count": 82,
   "metadata": {},
   "outputs": [
    {
     "data": {
      "text/plain": [
       "{'reg_lambda': 0.01,\n",
       " 'num_leaves': 100,\n",
       " 'n_estimators': 1000,\n",
       " 'learning_rate': 0.1,\n",
       " 'importance_type': 'gains',\n",
       " 'class_weight': 'balanced',\n",
       " 'boosting_type': 'dart'}"
      ]
     },
     "execution_count": 82,
     "metadata": {},
     "output_type": "execute_result"
    }
   ],
   "source": [
    "rf_random.best_params_"
   ]
  },
  {
   "cell_type": "code",
   "execution_count": 83,
   "metadata": {},
   "outputs": [
    {
     "name": "stdout",
     "output_type": "stream",
     "text": [
      "              precision    recall  f1-score   support\n",
      "\n",
      "           0       0.84      0.76      0.80       205\n",
      "           1       0.86      0.91      0.89       331\n",
      "\n",
      "    accuracy                           0.85       536\n",
      "   macro avg       0.85      0.84      0.84       536\n",
      "weighted avg       0.85      0.85      0.85       536\n",
      "\n"
     ]
    }
   ],
   "source": [
    "model = rf_random.best_estimator_\n",
    "hist = model.fit(X_train, y_train)\n",
    "predicted_y = model.predict(X_test)\n",
    "print(classification_report(y_test, predicted_y))"
   ]
  },
  {
   "cell_type": "code",
   "execution_count": null,
   "metadata": {},
   "outputs": [],
   "source": []
  },
  {
   "cell_type": "code",
   "execution_count": null,
   "metadata": {},
   "outputs": [],
   "source": []
  },
  {
   "cell_type": "code",
   "execution_count": null,
   "metadata": {},
   "outputs": [],
   "source": []
  },
  {
   "cell_type": "code",
   "execution_count": null,
   "metadata": {},
   "outputs": [],
   "source": []
  }
 ],
 "metadata": {
  "kernelspec": {
   "display_name": "Python 3.8.5 ('cogl')",
   "language": "python",
   "name": "python3"
  },
  "language_info": {
   "codemirror_mode": {
    "name": "ipython",
    "version": 3
   },
   "file_extension": ".py",
   "mimetype": "text/x-python",
   "name": "python",
   "nbconvert_exporter": "python",
   "pygments_lexer": "ipython3",
   "version": "3.8.5"
  },
  "orig_nbformat": 4,
  "vscode": {
   "interpreter": {
    "hash": "53c5d10f2d357fa99b102bf19ea4315b5e88b2494122f39f87103d7730d67975"
   }
  }
 },
 "nbformat": 4,
 "nbformat_minor": 2
}
